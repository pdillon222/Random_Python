{
 "cells": [
  {
   "cell_type": "markdown",
   "metadata": {},
   "source": [
    "<h1 style=\"font-size:50px;font-weight:bold;text-align:center;font-family:Courier\">Graphing & Plotting Workbook</h1>"
   ]
  },
  {
   "cell_type": "code",
   "execution_count": 9,
   "metadata": {
    "collapsed": true
   },
   "outputs": [],
   "source": [
    "import sklearn,seaborn,random,math\n",
    "import matplotlib.pyplot as plt\n",
    "import numpy as np\n",
    "import pandas as pd\n",
    "from pandas import DataFrame as df\n",
    "from pandas import Series as ser"
   ]
  },
  {
   "cell_type": "markdown",
   "metadata": {},
   "source": [
    "https://realpython.com/blog/python/python-matplotlib-guide/<br><br>\n",
    "<strong>What is pylab?:</strong><br>Pylab is a module withing the <strong>matplotlib</strong> library that was built to mimic MATLAB's global style.  It exists only to bring a number of functions and classes from both <strong>NumPy</strong> and <strong>matplotlib</strong> into the namespace.  \n",
    "```python\n",
    "pylab import *\n",
    "```\n",
    "<strong>Matplotlib</strong> advises against the import practice highlighted above.  Instead, currently recomminding:\n",
    "```python\n",
    "import matplotlib.pyplot as plt\n",
    "import numpy as np\n",
    "```\n",
    "<hr>\n",
    "A figure object is the outermost container for a <strong>matplotlib</strong> graphic, which can contain multiple axes objects.  An axes actually translates into what we think of as an individual plot or graph(rather than the plural of \"axis\", as we might expect).<br><br>\n",
    "You can think of the figure object as a box-like container holding one or more axes (plot objects).  Therefore, a figure can contain multiple graphs.<br>\n",
    "```python\n",
    ">>> fig, _ = plt.subplots()\n",
    ">>> type(fig)\n",
    "<class 'matplotlib.figure.Figure'>\n",
    "```\n",
    "This creates two variables with <strong>plt.subplots()</strong>.  The first is a top-level figure object; the second is a 'throwaway' variable that we don't quite need yet.  Using attribute notation, it is easy to traverse down the figure hierarchy and see the first tick of the y axis of the first axes object:\n",
    "```python\n",
    ">>> one_tick = fig.axes[0].yaxis.get_major_ticks()[0]\n",
    ">>> type(one_tick)\n",
    "<class 'matplotlib.axis.YTick'>\n",
    "```\n"
   ]
  },
  {
   "cell_type": "code",
   "execution_count": null,
   "metadata": {
    "collapsed": true
   },
   "outputs": [],
   "source": []
  }
 ],
 "metadata": {
  "kernelspec": {
   "display_name": "Python [default]",
   "language": "python",
   "name": "python3"
  },
  "language_info": {
   "codemirror_mode": {
    "name": "ipython",
    "version": 3
   },
   "file_extension": ".py",
   "mimetype": "text/x-python",
   "name": "python",
   "nbconvert_exporter": "python",
   "pygments_lexer": "ipython3",
   "version": "3.5.3"
  }
 },
 "nbformat": 4,
 "nbformat_minor": 2
}
